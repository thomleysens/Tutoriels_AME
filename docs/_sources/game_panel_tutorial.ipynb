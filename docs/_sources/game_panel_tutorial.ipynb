{
 "cells": [
  {
   "cell_type": "markdown",
   "id": "540c13e8-d383-4f7e-bee0-1826dc8a31b2",
   "metadata": {},
   "source": [
    "# DOCTORIALES GAME (*PANEL APP*) TUTORIAL\n",
    "\n",
    "***WIP TUTORIAL ABOUT THE GAME MADE WITH PANEL***"
   ]
  },
  {
   "cell_type": "markdown",
   "id": "f16e81c0-1596-4570-a6fb-0cfacf0aaebe",
   "metadata": {},
   "source": [
    "https://panel.holoviz.org/how_to/wasm/convert.html\n",
    "\n",
    "https://www.openstreetmap.org/ => Search for elements\n",
    "\n",
    "https://jupyterbook.org/en/stable/start/your-first-book.html\n",
    "\n",
    "```python\n",
    "#READ & lOAD YAML PARAMETERS\n",
    "url = \"https://raw.githubusercontent.com/thomleysens/Tutoriels_AME/main/tutoriels/game_params.yml\"\n",
    "r = requests.get(url)\n",
    "params = yaml.safe_load(r.content)\n",
    "RANGES = params[\"ranges\"]\n",
    "BUFFER_VALUE = params[\"buffer_value\"]\n",
    "NB_Q = params[\"nb_questions\"]\n",
    "CSV_SEP = \";\"\n",
    "CSV_FILE = \"https://raw.githubusercontent.com/thomleysens/Tutoriels_AME/main/tutoriels/game_QA.csv\"\n",
    "```\n",
    "\n",
    "```cmd\n",
    "panel convert game_panel.ipynb --to pyodide-worker --out pyodide\n",
    "```\n",
    "\n",
    "```cmd\n",
    "python3 -m http.server\n",
    "```\n",
    "\n",
    "http://localhost:8000/pyodide/game_panel.html"
   ]
  },
  {
   "cell_type": "code",
   "execution_count": 4,
   "id": "e3268c0c-8d24-414a-8ba0-2f55ab704148",
   "metadata": {},
   "outputs": [],
   "source": [
    "import pandas as pd\n",
    "\n",
    "from utils import get_wiki_url\n",
    "\n",
    "csv_file = \"game_QA.csv\"\n",
    "df = pd.read_csv(\n",
    "    csv_file,\n",
    "    sep=\";\",\n",
    "    encoding=\"utf-8\"\n",
    ")\n",
    "df[\"url\"] = df[\"wikidata\"].map(\n",
    "    get_wiki_url\n",
    ")\n",
    "df.to_csv(\n",
    "    csv_file,\n",
    "    sep=\";\",\n",
    "    encoding=\"utf-8\",\n",
    "    index=False\n",
    ")"
   ]
  }
 ],
 "metadata": {
  "kernelspec": {
   "display_name": "Python 3 (ipykernel)",
   "language": "python",
   "name": "python3"
  },
  "language_info": {
   "codemirror_mode": {
    "name": "ipython",
    "version": 3
   },
   "file_extension": ".py",
   "mimetype": "text/x-python",
   "name": "python",
   "nbconvert_exporter": "python",
   "pygments_lexer": "ipython3",
   "version": "3.12.0"
  }
 },
 "nbformat": 4,
 "nbformat_minor": 5
}
