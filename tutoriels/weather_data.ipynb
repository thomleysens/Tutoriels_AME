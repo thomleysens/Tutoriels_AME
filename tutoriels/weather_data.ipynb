{
 "cells": [
  {
   "cell_type": "markdown",
   "id": "61c164a0-292d-4570-a4c8-2c970269417e",
   "metadata": {},
   "source": [
    "https://donneespubliques.meteofrance.fr/?fond=produit&id_produit=92&id_rubrique=37\n",
    "\n",
    "https://www.data.gouv.fr/fr/datasets/contours-des-departements-francais-issus-d-openstreetmap/\n",
    "\n",
    "https://meteo.data.gouv.fr/datasets/6569b51ae64326786e4e8e1a => voir Discussions pour scraper"
   ]
  }
 ],
 "metadata": {
  "kernelspec": {
   "display_name": "Python 3 (ipykernel)",
   "language": "python",
   "name": "python3"
  },
  "language_info": {
   "codemirror_mode": {
    "name": "ipython",
    "version": 3
   },
   "file_extension": ".py",
   "mimetype": "text/x-python",
   "name": "python",
   "nbconvert_exporter": "python",
   "pygments_lexer": "ipython3",
   "version": "3.12.0"
  }
 },
 "nbformat": 4,
 "nbformat_minor": 5
}
