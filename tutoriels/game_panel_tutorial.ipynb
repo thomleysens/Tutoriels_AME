{
 "cells": [
  {
   "cell_type": "markdown",
   "id": "f16e81c0-1596-4570-a6fb-0cfacf0aaebe",
   "metadata": {},
   "source": [
    "https://panel.holoviz.org/how_to/wasm/convert.html\n",
    "\n",
    "https://www.openstreetmap.org/ => Search for elements\n",
    "\n",
    "```python\n",
    "#READ & lOAD YAML PARAMETERS\n",
    "url = \"https://raw.githubusercontent.com/thomleysens/Tutoriels_AME/main/tutoriels/game_params.yml\"\n",
    "r = requests.get(url)\n",
    "params = yaml.safe_load(r.content)\n",
    "RANGES = params[\"ranges\"]\n",
    "BUFFER_VALUE = params[\"buffer_value\"]\n",
    "NB_Q = params[\"nb_questions\"]\n",
    "CSV_SEP = \";\"\n",
    "CSV_FILE = \"https://raw.githubusercontent.com/thomleysens/Tutoriels_AME/main/tutoriels/game_QA.csv\"\n",
    "WIKI_URL = params[\"url\"]\n",
    "```\n",
    "\n",
    "```cmd\n",
    "panel convert game_panel.ipynb --to pyodide-worker --out pyodide\n",
    "```\n",
    "\n",
    "```cmd\n",
    "python3 -m http.server\n",
    "```\n",
    "\n",
    "http://localhost:8000/pyodide/game_panel.html"
   ]
  }
 ],
 "metadata": {
  "kernelspec": {
   "display_name": "Python 3 (ipykernel)",
   "language": "python",
   "name": "python3"
  },
  "language_info": {
   "codemirror_mode": {
    "name": "ipython",
    "version": 3
   },
   "file_extension": ".py",
   "mimetype": "text/x-python",
   "name": "python",
   "nbconvert_exporter": "python",
   "pygments_lexer": "ipython3",
   "version": "3.12.0"
  }
 },
 "nbformat": 4,
 "nbformat_minor": 5
}
